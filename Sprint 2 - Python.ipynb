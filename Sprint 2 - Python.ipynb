{
 "cells": [
  {
   "cell_type": "markdown",
   "metadata": {},
   "source": [
    "\n",
    "\n",
    "Olá estudante!\n",
    "\n",
    "Me chamo Rafael Meirelles e irei revisar o seu projeto hoje e em eventuais futuras submissões até que ele cumpra todos os requisitos para o aceite.\n",
    "Conte comigo nessa jornada e não se preocupe se precisar ajustar alguns detalhes, é parte do processo e fundamental para que você exercite os conceitos que vem aprendendo e assim melhore a qualidade dos seus códigos e análises.\n",
    "\n",
    "**Peço que mantenha e não altereos comentários que eu fizer por aqui para que possamos nos localizar posteriormente, ok?**\n",
    "\n",
    "Mais uma coisa, vamos utilizar um código de cores para você entender os meus feedbacks no seu notebook. Funciona assim:\n",
    "\n",
    "\n",
    "<div class=\"alert alert-danger\">\n",
    "<strong>Vermelho</strong>\n",
    "\n",
    "Erro que precisa ser consertado, caso contrário, seu projeto não pode ser aceito\n",
    "\n",
    "</div>\n",
    "\n",
    "<div class=\"alert alert-warning\">\n",
    "<strong>Amarelo</strong>\n",
    "\n",
    "Alerta de um erro não crítco, mas que pode ser corrigido para melhoria geral no seu código/análise\n",
    "\n",
    "</div>\n",
    "\n",
    "<div class=\"alert alert-success\">\n",
    "<strong>Verde</strong>\n",
    "\n",
    "Elogios\n",
    "</div>\n",
    "\n",
    "<div class=\"alert alert-info\">\n",
    "<strong>Comentário do estudante</strong>\n",
    "\n",
    "Use uma caixa azul como essa para eventuais comentários que você gostaria de fazer para mim.\n",
    "</div>\n",
    "\n",
    "<div class=\"alert alert-info\">\n",
    "<strong>Comentário do estudante</strong>\n",
    "    \n",
    "<br> Boa tarde! Creio que agora esteja tudo correto, falei com o Anilton e ele me explicou melhor. Me avise se precisar mudar mais alguma coisa. Obrigado!\n",
    "\n",
    "</div>"
   ]
  },
  {
   "cell_type": "code",
   "execution_count": null,
   "metadata": {},
   "outputs": [],
   "source": []
  },
  {
   "cell_type": "code",
   "execution_count": null,
   "metadata": {},
   "outputs": [],
   "source": []
  },
  {
   "cell_type": "markdown",
   "metadata": {},
   "source": [
    "\n",
    "<div class=\"alert alert-danger\">\n",
    "<strong>Comentário do revisor v1/v2</strong>\n",
    "\n",
    "Estamos no caminho certo com essa versão, mas retocar os pontos indicados abaixo nos fará chegar em um resultado ainda mais incrível.\n",
    "    \n",
    "Conte comigo para ajudá-lo (a) em qualquer questão que possa vir a ter! Lembre-se de usar as caixas azuis para se comunicar comigo.\n",
    "    \n",
    "Até breve.\n",
    "</div>\n"
   ]
  },
  {
   "cell_type": "markdown",
   "metadata": {},
   "source": [
    "<div class=\"alert alert-danger\">\n",
    "<strong>Comentário do revisor v3</strong>\n",
    "\n",
    "Maikon, acredito que com uma mentoria esse ponto sobre as importações deve ficar mais claro. Vou solicitar que uma sessão seja agendada para ajudá-lo!\n",
    "</div>\n"
   ]
  },
  {
   "cell_type": "markdown",
   "metadata": {
    "id": "E0vqbgi9ay0H"
   },
   "source": [
    "# Se liga na música"
   ]
  },
  {
   "cell_type": "markdown",
   "metadata": {
    "id": "fhq_eyov_Zcs"
   },
   "source": [
    "# Conteúdo <a id='back'></a>\n",
    "\n",
    "* [Introdução](#intro)\n",
    "* [Etapa 1. Visão geral dos dados](#data_review)\n",
    "    * [Conclusões](#data_review_conclusions)\n",
    "* [Etapa 2. Pré-processamento de dados](#data_preprocessing)\n",
    "    * [2.1 Estilo do cabeçalho](#header_style)\n",
    "    * [2.2 Valores ausentes](#missing_values)\n",
    "    * [2.3 Duplicados](#duplicates)\n",
    "    * [2.4 Conclusões](#data_preprocessing_conclusions)\n",
    "* [Etapa 3. Teste da hipótese](#hypothesis)\n",
    "    * [3.1 Hipótese 1: atividade dos usuários nas duas cidades](#activity)\n",
    "* [Conclusões](#end)"
   ]
  },
  {
   "cell_type": "markdown",
   "metadata": {
    "id": "VUC88oWjTJw2"
   },
   "source": [
    "## Introdução <a id='intro'></a>\n",
    "O trabalho de um analista é analisar dados para obter percepções valiosas dos dados e tomar decisões fundamentadas neles. Esse processo consiste em várias etapas, como visão geral dos dados, pré-processamento dos dados e testes de hipóteses.\n",
    "\n",
    "Sempre que fazemos uma pesquisa, precisamos formular uma hipótese que depois poderemos testar. Às vezes nós aceitamos essas hipóteses; outras vezes, nós as rejeitamos. Para fazer as escolhas certas, um negócio deve ser capaz de entender se está fazendo as suposições certas ou não.\n",
    "\n",
    "Neste projeto, você vai comparar as preferências musicais dos habitantes de Springfild e Shelbyville. Você vai estudar os dados de um serviço de streaming de música online para testar a hipótese apresentada abaixo e comparar o comportamento dos usuários dessas duas cidades.\n",
    "\n",
    "### Objetivo:\n",
    "Teste a hipótese:\n",
    "1. A atividade dos usuários é diferente dependendo do dia da semana e da cidade.\n",
    "\n",
    "\n",
    "### Etapas\n",
    "Os dados sobre o comportamento do usuário são armazenados no arquivo `/datasets/music_project_en.csv`. Não há informações sobre a qualidade dos dados, então será necessário examiná-los antes de testar a hipótese.\n",
    "\n",
    "Primeiro, você avaliará a qualidade dos dados e verá se seus problemas são significativos. Depois, durante o pré-processamento dos dados, você tentará tratar dos problemas mais críticos.\n",
    "\n",
    "O seu projeto consistirá em três etapas:\n",
    " 1. Visão geral dos dados\n",
    " 2. Pré-processamento de dados\n",
    " 3. Teste da hipótese\n",
    "\n",
    "\n",
    "\n",
    "\n",
    "\n",
    "\n"
   ]
  },
  {
   "cell_type": "markdown",
   "metadata": {
    "id": "hDt6pg-Rw-1U"
   },
   "source": [
    "[Voltar ao Índice](#back)"
   ]
  },
  {
   "cell_type": "markdown",
   "metadata": {
    "id": "Ml1hmfXC_Zcs"
   },
   "source": [
    "## Etapa 1. Visão geral dos dados <a id='data_review'></a>\n",
    "\n",
    "Abra os dados e examine-os."
   ]
  },
  {
   "cell_type": "markdown",
   "metadata": {
    "id": "57eAOGIz_Zcs"
   },
   "source": [
    "Você precisará da `pandas`, então, importe-a."
   ]
  },
  {
   "cell_type": "code",
   "execution_count": 1,
   "metadata": {
    "id": "AXN7PHPN_Zcs"
   },
   "outputs": [],
   "source": [
    "# importando pandas\n",
    "import pandas as pd"
   ]
  },
  {
   "cell_type": "markdown",
   "metadata": {
    "id": "SG23P8tt_Zcs"
   },
   "source": [
    "Leia o arquivo `music_project_en.csv` da pasta `/datasets/` e salve-o na variável `df`:"
   ]
  },
  {
   "cell_type": "code",
   "execution_count": 14,
   "metadata": {
    "id": "fFVu7vqh_Zct"
   },
   "outputs": [],
   "source": [
    "# lendo o arquivo e armazenando em df\n",
    "df = pd.read_csv('/datasets/music_project_en.csv')"
   ]
  },
  {
   "cell_type": "markdown",
   "metadata": {
    "id": "rDoOMd3uTqnZ"
   },
   "source": [
    "Imprima as primeiras 10 linhas da tabela:"
   ]
  },
  {
   "cell_type": "code",
   "execution_count": 15,
   "metadata": {
    "id": "oWTVX3gW_Zct"
   },
   "outputs": [
    {
     "name": "stdout",
     "output_type": "stream",
     "text": [
      "     userID                        Track            artist   genre  \\\n",
      "0  FFB692EC            Kamigata To Boots  The Mass Missile    rock   \n",
      "1  55204538  Delayed Because of Accident  Andreas Rönnberg    rock   \n",
      "2    20EC38            Funiculì funiculà       Mario Lanza     pop   \n",
      "3  A3DD03C9        Dragons in the Sunset        Fire + Ice    folk   \n",
      "4  E2DC1FAE                  Soul People        Space Echo   dance   \n",
      "5  842029A1                       Chains          Obladaet  rusrap   \n",
      "6  4CB90AA5                         True      Roman Messer   dance   \n",
      "7  F03E1C1F             Feeling This Way   Polina Griffith   dance   \n",
      "8  8FA1D3BE                     L’estate       Julia Dalia  ruspop   \n",
      "9  E772D5C0                    Pessimist               NaN   dance   \n",
      "\n",
      "        City        time        Day  \n",
      "0  Shelbyville  20:28:33  Wednesday  \n",
      "1  Springfield  14:07:09     Friday  \n",
      "2  Shelbyville  20:58:07  Wednesday  \n",
      "3  Shelbyville  08:37:09     Monday  \n",
      "4  Springfield  08:34:34     Monday  \n",
      "5  Shelbyville  13:09:41     Friday  \n",
      "6  Springfield  13:00:07  Wednesday  \n",
      "7  Springfield  20:47:49  Wednesday  \n",
      "8  Springfield  09:17:40     Friday  \n",
      "9  Shelbyville  21:20:49  Wednesday  \n"
     ]
    }
   ],
   "source": [
    "# obtenha as 10 primeiras 10 linhas da tabela df\n",
    "print(df.head(10)) # Exibir as 10 primeira\n"
   ]
  },
  {
   "cell_type": "markdown",
   "metadata": {
    "id": "EO73Kwic_Zct"
   },
   "source": [
    "Obtenha informações gerais sobre a tabela usando um comando. Você conhece o método para exibir informações gerais que precisamos obter."
   ]
  },
  {
   "cell_type": "code",
   "execution_count": 17,
   "metadata": {
    "id": "DSf2kIb-_Zct"
   },
   "outputs": [
    {
     "name": "stdout",
     "output_type": "stream",
     "text": [
      "<class 'pandas.core.frame.DataFrame'>\n",
      "RangeIndex: 65079 entries, 0 to 65078\n",
      "Data columns (total 7 columns):\n",
      " #   Column    Non-Null Count  Dtype \n",
      "---  ------    --------------  ----- \n",
      " 0     userID  65079 non-null  object\n",
      " 1   Track     63736 non-null  object\n",
      " 2   artist    57512 non-null  object\n",
      " 3   genre     63881 non-null  object\n",
      " 4     City    65079 non-null  object\n",
      " 5   time      65079 non-null  object\n",
      " 6   Day       65079 non-null  object\n",
      "dtypes: object(7)\n",
      "memory usage: 3.5+ MB\n",
      "None\n"
     ]
    }
   ],
   "source": [
    "# obtendo informações gerais sobre os nossos dados\n",
    "\n",
    "print(df.info())"
   ]
  },
  {
   "cell_type": "markdown",
   "metadata": {
    "id": "TaQ2Iwbr_Zct"
   },
   "source": [
    "Aqui estão as nossas observações sobre a tabela. Ela contém sete colunas. Elas armazenam o mesmo tipo de dado: `object`.\n",
    "\n",
    "De acordo com a documentação:\n",
    "- `' userID'` — identificação do usuário\n",
    "- `'Track'` — título da música\n",
    "- `'artist'` — nome do artista\n",
    "- `'genre'` — gênero da música\n",
    "- `'City'` — cidade do usuário\n",
    "- `'time'` — o tempo exato que a música foi reproduzida\n",
    "- `'Day'` — dia da semana\n",
    "\n",
    "Podemos ver três problemas de estilo nos cabeçalhos da tabela:\n",
    "1. Alguns cabeçalhos são escritos em letras maiúsculas, outros estão em minúsculas.\n",
    "2. Alguns cabeçalhos contêm espaços.\n",
    "3. `Detecte o problema e o descreva aqui`.\n",
    "\n",
    "\n"
   ]
  },
  {
   "cell_type": "markdown",
   "metadata": {
    "id": "MCB6-dXG_Zct"
   },
   "source": [
    "### Escreva suas observações. Aqui estão algumas perguntas que podem ajudar: <a id='data_review_conclusions'></a>\n",
    "\n",
    "`1.   Que tipo de dados temos nas linhas? E como podemos entender as colunas?`\n",
    "\n",
    "`2.   Esses dados são suficientes para responder à nossa hipótese ou precisamos de mais dados?`\n",
    "\n",
    "`3.   Você notou algum problema nos dados, como valores ausentes, duplicados ou tipos de dados errados`"
   ]
  },
  {
   "cell_type": "markdown",
   "metadata": {
    "id": "MCB6-dXG_Zct"
   },
   "source": [
    "# Análise Inicial dos Dados  \n",
    "\n",
    "Os dados apresentados são referentes aos **hábitos de escuta dos usuários**. Possuem as seguintes colunas:  \n",
    "\n",
    "- **Usuário**  \n",
    "- **Música**  \n",
    "- **Artista**  \n",
    "- **Gênero**  \n",
    "- **Cidade**  \n",
    "- **Horário**  \n",
    "- **Dia**  \n",
    "\n",
    "# 🔍 Problemas Identificados  \n",
    "\n",
    "Ao fazer uma rápida análise, verificamos que:  \n",
    "\n",
    "✅ **Todas as colunas são do tipo \"object\"**.  \n",
    "✅ **Valores ausentes** em algumas colunas, como **Música, Artista e Gênero**.  \n",
    "✅ **Tipos de dados errados**, o que pode atrapalhar as análises.  \n",
    "✅ **Possíveis valores duplicados** que precisam ser verificados.  \n",
    "\n",
    "Por exemplo, se quisermos analisar os dados por **data e horário**, será necessário converter as colunas **\"time\"** e **\"day\"** para o formato correto usando `pd.to_datetime()`.  \n",
    "\n",
    " **Próximo Passo:** Limpar e transformar os dados para garantir uma análise mais precisa!  \n"
   ]
  },
  {
   "cell_type": "markdown",
   "metadata": {
    "id": "3eL__vcwViOi"
   },
   "source": [
    "[Voltar ao Índice](#back)"
   ]
  },
  {
   "cell_type": "markdown",
   "metadata": {},
   "source": [
    "\n",
    "<div class=\"alert alert-success\">\n",
    "<strong>Comentário do revisor v1</strong>\n",
    "\n",
    "Bom trabalho com a introdução!\n",
    "\n",
    "</div>\n"
   ]
  },
  {
   "cell_type": "markdown",
   "metadata": {
    "id": "SjYF6Ub9_Zct"
   },
   "source": [
    "## Etapa 2. Pré-processamento de dados <a id='data_preprocessing'></a>\n",
    "\n",
    "O objetivo aqui é preparar os dados para a análise.\n",
    "O primeiro passo é resolver todos os problemas com o cabeçalho. E então podemos passar para os valores ausentes e duplicados. Vamos começar.\n",
    "\n",
    "Corrija a formatação nos cabeçalhos da tabela.\n"
   ]
  },
  {
   "cell_type": "markdown",
   "metadata": {
    "id": "dIaKXr29_Zct"
   },
   "source": [
    "### Estilo do cabeçalho <a id='header_style'></a>\n",
    "Imprima os cabeçalhos da tabela (os nomes das colunas):"
   ]
  },
  {
   "cell_type": "code",
   "execution_count": 18,
   "metadata": {
    "id": "oKOTdF_Q_Zct"
   },
   "outputs": [
    {
     "name": "stdout",
     "output_type": "stream",
     "text": [
      "Index(['  userID', 'Track', 'artist', 'genre', '  City  ', 'time', 'Day'], dtype='object')\n"
     ]
    }
   ],
   "source": [
    "print(df.columns)\n"
   ]
  },
  {
   "cell_type": "markdown",
   "metadata": {
    "id": "zj5534cv_Zct"
   },
   "source": [
    "Mude os cabeçalhos da tabela conforme as boas práticas de estilo:\n",
    "* Todos os caracteres precisam estar com letras minúsculas\n",
    "* Exclua espaços\n",
    "* Se o nome tiver várias palavras, use snake_case"
   ]
  },
  {
   "cell_type": "markdown",
   "metadata": {
    "id": "Xu0zkfe5zNJe"
   },
   "source": [
    "Anteriormente, você aprendeu sobre uma maneira automatizada de renomear colunas. Vamos usá-la agora. Use o ciclo for para percorrer os nomes das colunas e transformar todos os caracteres em letras minúsculas. Após fazer isso, imprima os cabeçalhos da tabela novamente:"
   ]
  },
  {
   "cell_type": "code",
   "execution_count": 19,
   "metadata": {
    "id": "6I_RwwMhzM4e"
   },
   "outputs": [],
   "source": [
    "# Percorrendo os cabeçalhos e convertendo tudo em minúsculos\n",
    "\n",
    "df.columns = [col.lower() for col in df.columns]\n"
   ]
  },
  {
   "cell_type": "markdown",
   "metadata": {
    "id": "pweIRxjSzPYW"
   },
   "source": [
    "Agora, usando a mesma abordagem, exclua os espaços no início e no final de cada nome de coluna e imprima os nomes das colunas novamente:"
   ]
  },
  {
   "cell_type": "code",
   "execution_count": 20,
   "metadata": {
    "id": "vVQXbFyJzSYl"
   },
   "outputs": [],
   "source": [
    "# Percorrendo os cabeçalhos e removendo os espaços\n",
    "\n",
    "df.columns = [col.replace(\" \", \"\") for col in df.columns]\n"
   ]
  },
  {
   "cell_type": "markdown",
   "metadata": {
    "id": "yCb8MW1JzURd"
   },
   "source": [
    "Precisamos aplicar a regra de sublinhado no lugar de espaço à coluna `userid`. Deveria ser `user_id`. Renomeie essa coluna e imprima os nomes de todas as colunas quando terminar."
   ]
  },
  {
   "cell_type": "code",
   "execution_count": 21,
   "metadata": {
    "id": "ISlFqs5y_Zct"
   },
   "outputs": [],
   "source": [
    "# Renomeando a coluna \"userid\"\n",
    "df = df.rename(columns={'userid': 'user_id'})\n"
   ]
  },
  {
   "cell_type": "markdown",
   "metadata": {
    "id": "1dqbh00J_Zct"
   },
   "source": [
    "Verifique o resultado. Imprima os cabeçalhos novamente:"
   ]
  },
  {
   "cell_type": "code",
   "execution_count": 22,
   "metadata": {
    "id": "d4NOAmTW_Zct"
   },
   "outputs": [
    {
     "name": "stdout",
     "output_type": "stream",
     "text": [
      "Index(['user_id', 'track', 'artist', 'genre', 'city', 'time', 'day'], dtype='object')\n"
     ]
    }
   ],
   "source": [
    "print(df.columns)"
   ]
  },
  {
   "cell_type": "markdown",
   "metadata": {},
   "source": [
    "<div class=\"alert alert-info\">\n",
    "<strong>Comentário do estudante</strong>\n",
    "    \n",
    "<br> Seria desta forma?\n",
    "\n",
    "</div>\n"
   ]
  },
  {
   "cell_type": "markdown",
   "metadata": {},
   "source": [
    "<div class=\"alert alert-success\">\n",
    "<strong>Comentário do revisor v4</strong>\n",
    "\n",
    "Tudo certo com o nome das colunas.\n",
    "\n",
    "</div>"
   ]
  },
  {
   "cell_type": "markdown",
   "metadata": {
    "id": "xYJk6ksJVpOl"
   },
   "source": [
    "[Voltar ao Índice](#back)"
   ]
  },
  {
   "cell_type": "markdown",
   "metadata": {},
   "source": [
    "\n",
    "<div class=\"alert alert-danger\">\n",
    "<strong>Comentário do revisor v1</strong>\n",
    "\n",
    "Tudo certo com o nome das colunas. Mas devemos importar os dados apenas uma vez no projeto e iterar sempre sobre o mesmo objeto, fazendo melhorias incrementais no mesmo. Vou devolver o projeto pra ti para que possa corrigir isso nessa sessão e nas subsequentes.\n",
    "\n",
    "</div>"
   ]
  },
  {
   "cell_type": "markdown",
   "metadata": {},
   "source": [
    "\n",
    "<div class=\"alert alert-danger\">\n",
    "<strong>Comentário do revisor v2</strong>\n",
    "\n",
    "Ainda não, Maikon. A ideia é que você importe os dados dessa forma\n",
    "    \n",
    "    df = pd.read_csv('/datasets/music_project_en.csv')\n",
    "    \n",
    "    \n",
    "Apenas uma vez no início do projeto e a cada sessão vá fazendo os ajustes pedidos pelo projeto no objeto df que vai sendo ajustado sem perder as correções anteriores. Ficou claro?\n",
    "\n",
    "</div>"
   ]
  },
  {
   "cell_type": "markdown",
   "metadata": {
    "id": "5ISfbcfY_Zct"
   },
   "source": [
    "### Valores Ausentes <a id='missing_values'></a>\n",
    " Primeiro, encontre a quantidade de valores ausentes na tabela. Você precisa usar dois métodos em sequência para obter o número de valores ausentes."
   ]
  },
  {
   "cell_type": "code",
   "execution_count": 23,
   "metadata": {
    "id": "RskX29qr_Zct"
   },
   "outputs": [
    {
     "name": "stdout",
     "output_type": "stream",
     "text": [
      "user_id       0\n",
      "track      1343\n",
      "artist     7567\n",
      "genre      1198\n",
      "city          0\n",
      "time          0\n",
      "day           0\n",
      "dtype: int64\n"
     ]
    }
   ],
   "source": [
    "# calculando o número de valores ausentes\n",
    "print(df.isnull().sum())"
   ]
  },
  {
   "cell_type": "markdown",
   "metadata": {
    "id": "qubhgnlO_Zct"
   },
   "source": [
    "Nem todos os valores ausentes afetam a pesquisa. Por exemplo, os valores ausentes em `track` e `artist` não são críticos. Você pode simplesmente substituí-los por valores padrão, como a string `'unknown'`.\n",
    "\n",
    "Mas valores ausentes em `'genre'` podem afetar a comparação de preferências musicais de Springfield e Shelbyville. Na vida real, seria útil descobrir as razões pelas quais os dados estão ausentes e tentar corrigi-los. Mas nós não temos essa possibilidade neste projeto. Então, você terá que:\n",
    "* Preencha esses valores ausentes com um valor padrão\n",
    "* Avalie em que medida os valores ausentes podem afetar sua análise"
   ]
  },
  {
   "cell_type": "markdown",
   "metadata": {
    "id": "fSv2laPA_Zct"
   },
   "source": [
    "Substitua os valores ausentes nas colunas `'track'`, `'artist'` e `'genre'` pela string `'unknown'`. Como mostramos nas lições anteriores, a melhor maneira de fazer isso é criar uma lista para armazenar os nomes das colunas nas quais precisamos fazer a substituição. Em seguida, use essa lista e percorra as colunas nas quais a substituição seja necessária e faça a substituição."
   ]
  },
  {
   "cell_type": "code",
   "execution_count": 24,
   "metadata": {
    "id": "KplB5qWs_Zct"
   },
   "outputs": [],
   "source": [
    "# percorrendo os cabeçalhos e substituindo valores ausentes por 'unknown'\n",
    "df = df.fillna('unknown')\n"
   ]
  },
  {
   "cell_type": "markdown",
   "metadata": {
    "id": "Ilsm-MZo_Zct"
   },
   "source": [
    "Agora verifique o resultado para ter certeza de que o conjunto de dados não contenha valores ausentes após a substituição. Para fazer isso, conte os valores ausentes novamente."
   ]
  },
  {
   "cell_type": "code",
   "execution_count": 25,
   "metadata": {
    "id": "Tq4nYRX4_Zct"
   },
   "outputs": [
    {
     "name": "stdout",
     "output_type": "stream",
     "text": [
      "user_id    0\n",
      "track      0\n",
      "artist     0\n",
      "genre      0\n",
      "city       0\n",
      "time       0\n",
      "day        0\n",
      "dtype: int64\n"
     ]
    }
   ],
   "source": [
    "# contando os valores ausentes\n",
    "print(df.isnull().sum())"
   ]
  },
  {
   "cell_type": "markdown",
   "metadata": {
    "id": "74ZIBmq9VrsK"
   },
   "source": [
    "[Voltar ao Índice](#back)"
   ]
  },
  {
   "cell_type": "markdown",
   "metadata": {},
   "source": [
    "<div class=\"alert alert-success\">\n",
    "<strong>Comentário do revisor v4</strong>\n",
    "\n",
    "Valores ausentes tratados com sucesso!\n",
    "\n",
    "</div>"
   ]
  },
  {
   "cell_type": "markdown",
   "metadata": {
    "id": "BWKRtBJ3_Zct"
   },
   "source": [
    "### Duplicados <a id='duplicates'></a>\n",
    "Encontre o número de duplicados explícitos na tabela. Lembre-se de que você precisa aplicar dois métodos em sequência para obter o número de duplicados explícitos."
   ]
  },
  {
   "cell_type": "code",
   "execution_count": 26,
   "metadata": {
    "id": "36eES_S0_Zct"
   },
   "outputs": [
    {
     "name": "stdout",
     "output_type": "stream",
     "text": [
      "Número de linhas duplicadas: 3826\n"
     ]
    }
   ],
   "source": [
    "# contando duplicados explícitos\n",
    "duplicados = df.duplicated().sum()\n",
    "\n",
    "print(f'Número de linhas duplicadas: {duplicados}')"
   ]
  },
  {
   "cell_type": "markdown",
   "metadata": {
    "id": "Ot25h6XR_Zct"
   },
   "source": [
    "Agora descarte todos os duplicados. Para fazer isso, chame o método que faz exatamente isso."
   ]
  },
  {
   "cell_type": "code",
   "execution_count": 27,
   "metadata": {
    "id": "exFHq6tt_Zct"
   },
   "outputs": [
    {
     "name": "stdout",
     "output_type": "stream",
     "text": [
      "(61253, 7)\n"
     ]
    }
   ],
   "source": [
    "# removendo duplicados explícitos\n",
    "df = df.drop_duplicates()\n",
    "\n",
    "print(df.shape)"
   ]
  },
  {
   "cell_type": "markdown",
   "metadata": {
    "id": "Im2YwBEG_Zct"
   },
   "source": [
    "Agora vamos verificar se descartamos todos os duplicados. Conte duplicados explícitos mais uma vez para ter certeza de que você removeu todos eles:"
   ]
  },
  {
   "cell_type": "code",
   "execution_count": 28,
   "metadata": {
    "id": "-8PuNWQ0_Zct"
   },
   "outputs": [
    {
     "name": "stdout",
     "output_type": "stream",
     "text": [
      "(61253, 7)\n",
      "Número de linhas duplicadas: 0\n"
     ]
    }
   ],
   "source": [
    "# verificando duplicados novamente\n",
    "df = df.drop_duplicates()\n",
    "duplicados = df.duplicated().sum()\n",
    "\n",
    "print(df.shape)\n",
    "print(f'Número de linhas duplicadas: {duplicados}')"
   ]
  },
  {
   "cell_type": "markdown",
   "metadata": {
    "id": "QlFBsxAr_Zct"
   },
   "source": [
    "Agora queremos nos livrar dos duplicados implícitos na coluna `genre`. Por exemplo, o nome de um gênero pode ser escrito de maneiras diferentes. Alguns erros afetarão também o resultado."
   ]
  },
  {
   "cell_type": "markdown",
   "metadata": {
    "id": "eSjWwsOh_Zct"
   },
   "source": [
    "Para fazer isso, vamos começar imprimindo uma lista de nomes de gênero únicos, ordenados em ordem alfabética: Para fazer isso:\n",
    "* Extraia a coluna `genre` do DataFrame\n",
    "* Chame o método que retornará todos os valores únicos na coluna extraída\n"
   ]
  },
  {
   "cell_type": "code",
   "execution_count": 29,
   "metadata": {
    "id": "JIUcqzZN_Zct"
   },
   "outputs": [
    {
     "name": "stdout",
     "output_type": "stream",
     "text": [
      "['rock' 'pop' 'folk' 'dance' 'rusrap' 'ruspop' 'world' 'electronic'\n",
      " 'unknown' 'alternative' 'children' 'rnb' 'hip' 'jazz' 'postrock' 'latin'\n",
      " 'classical' 'metal' 'reggae' 'triphop' 'blues' 'instrumental' 'rusrock'\n",
      " 'dnb' 'türk' 'post' 'country' 'psychedelic' 'conjazz' 'indie'\n",
      " 'posthardcore' 'local' 'avantgarde' 'punk' 'videogame' 'techno' 'house'\n",
      " 'christmas' 'melodic' 'caucasian' 'reggaeton' 'soundtrack' 'singer' 'ska'\n",
      " 'salsa' 'ambient' 'film' 'western' 'rap' 'beats' \"hard'n'heavy\"\n",
      " 'progmetal' 'minimal' 'tropical' 'contemporary' 'new' 'soul' 'holiday'\n",
      " 'german' 'jpop' 'spiritual' 'urban' 'gospel' 'nujazz' 'folkmetal'\n",
      " 'trance' 'miscellaneous' 'anime' 'hardcore' 'progressive' 'korean'\n",
      " 'numetal' 'vocal' 'estrada' 'tango' 'loungeelectronic' 'classicmetal'\n",
      " 'dubstep' 'club' 'deep' 'southern' 'black' 'folkrock' 'fitness' 'french'\n",
      " 'disco' 'religious' 'hiphop' 'drum' 'extrememetal' 'türkçe'\n",
      " 'experimental' 'easy' 'metalcore' 'modern' 'argentinetango' 'old' 'swing'\n",
      " 'breaks' 'eurofolk' 'stonerrock' 'industrial' 'funk' 'middle' 'variété'\n",
      " 'other' 'adult' 'christian' 'thrash' 'gothic' 'international' 'muslim'\n",
      " 'relax' 'schlager' 'caribbean' 'nu' 'breakbeat' 'comedy' 'chill' 'newage'\n",
      " 'specialty' 'uzbek' 'k-pop' 'balkan' 'chinese' 'meditative' 'dub' 'power'\n",
      " 'death' 'grime' 'arabesk' 'romance' 'flamenco' 'leftfield' 'european'\n",
      " 'tech' 'newwave' 'dancehall' 'mpb' 'piano' 'top' 'bigroom' 'opera'\n",
      " 'celtic' 'tradjazz' 'acoustic' 'epicmetal' 'hip-hop' 'historisch'\n",
      " 'downbeat' 'downtempo' 'africa' 'audiobook' 'jewish' 'sängerportrait'\n",
      " 'deutschrock' 'eastern' 'action' 'future' 'electropop' 'folklore'\n",
      " 'bollywood' 'marschmusik' 'rnr' 'karaoke' 'indian' 'rancheras'\n",
      " 'afrikaans' 'rhythm' 'sound' 'deutschspr' 'trip' 'lovers' 'choral'\n",
      " 'dancepop' 'retro' 'smooth' 'mexican' 'brazilian' 'ïîï' 'mood' 'surf'\n",
      " 'gangsta' 'inspirational' 'idm' 'ethnic' 'bluegrass' 'broadway'\n",
      " 'animated' 'americana' 'karadeniz' 'rockabilly' 'colombian' 'self' 'hop'\n",
      " 'sertanejo' 'japanese' 'canzone' 'lounge' 'sport' 'ragga' 'traditional'\n",
      " 'gitarre' 'frankreich' 'emo' 'laiko' 'cantopop' 'glitch' 'documentary'\n",
      " 'oceania' 'popeurodance' 'dark' 'vi' 'grunge' 'hardstyle' 'samba'\n",
      " 'garage' 'art' 'folktronica' 'entehno' 'mediterranean' 'chamber' 'cuban'\n",
      " 'taraftar' 'gypsy' 'hardtechno' 'shoegazing' 'bossa' 'latino' 'worldbeat'\n",
      " 'malaysian' 'baile' 'ghazal' 'arabic' 'popelectronic' 'acid' 'kayokyoku'\n",
      " 'neoklassik' 'tribal' 'tanzorchester' 'native' 'independent' 'cantautori'\n",
      " 'handsup' 'punjabi' 'synthpop' 'rave' 'französisch' 'quebecois' 'speech'\n",
      " 'soulful' 'jam' 'ram' 'horror' 'orchestral' 'neue' 'roots' 'slow'\n",
      " 'jungle' 'indipop' 'axé' 'fado' 'showtunes' 'arena' 'irish' 'mandopop'\n",
      " 'forró' 'dirty' 'regional']\n"
     ]
    }
   ],
   "source": [
    "# visualizando nomes de gêneros únicos\n",
    "generos_unicos = df['genre'].unique()\n",
    "\n",
    "print(generos_unicos)\n"
   ]
  },
  {
   "cell_type": "markdown",
   "metadata": {
    "id": "qej-Qmuo_Zct"
   },
   "source": [
    "Olhe a lista e encontre duplicados implícitos do gênero `hiphop`. Esses podem ser nomes escritos incorretamente, ou nomes alternativos para o mesmo gênero.\n",
    "\n",
    "Você verá os seguintes duplicados implícitos:\n",
    "* `hip`\n",
    "* `hop`\n",
    "* `hip-hop`\n",
    "\n",
    "Para se livrar deles, crie uma função `replace_wrong_genres()` com dois parâmetros:\n",
    "* `wrong_genres=` — essa é uma lista que contém todos os valores que você precisa substituir\n",
    "* `correct_genre=` — essa é uma string que você vai usar para a substituição\n",
    "\n",
    "Como resultado, a função deve corrigir os nomes na coluna `'genre'` da tabela `df`, isto é, substituindo cada valor da lista `wrong_genres` por valores de `correct_genre`.\n",
    "\n",
    "Dentro do corpo da função, use um ciclo `'for'` para percorrer a lista de gêneros errados, extrair a coluna `'genre'` e aplicar o método `replace` para fazer as correções."
   ]
  },
  {
   "cell_type": "code",
   "execution_count": 30,
   "metadata": {
    "id": "ErNDkmns_Zct"
   },
   "outputs": [],
   "source": [
    "# função para substituir duplicados implícitos\n",
    "def replace_wrong_genres(wrong_genres, correct_genre):\n",
    "    for genre in wrong_genres:\n",
    "        df['genre'] = df['genre'].replace(genre, correct_genre)"
   ]
  },
  {
   "cell_type": "markdown",
   "metadata": {
    "id": "aDoBJxbA_Zct"
   },
   "source": [
    "Agora, chame a função `replace_wrong_genres()` e passe argumentos apropriados para que ela limpe duplicados implícitos (`hip`, `hop` e `hip-hop`) substituindo-os por `hiphop`:"
   ]
  },
  {
   "cell_type": "code",
   "execution_count": 32,
   "metadata": {
    "id": "YN5i2hpmSo09"
   },
   "outputs": [],
   "source": [
    "# removendo duplicados implícitos\n",
    "def replace_wrong_genres(wrong_genres, correct_genre):\n",
    "    for genre in wrong_genres:\n",
    "        df['genre'] = df['genre'].replace(genre, correct_genre)\n",
    "        \n",
    "\n",
    "wrong_genres = ['hip', 'hop', 'hip-hop']\n",
    "\n",
    "correct_genre = 'hiphop'\n",
    "\n",
    "replace_wrong_genres(wrong_genres, correct_genre)\n",
    "\n"
   ]
  },
  {
   "cell_type": "markdown",
   "metadata": {
    "id": "zQKF16_RG15m"
   },
   "source": [
    "Certifique-se que os nomes duplicados foram removidos. Imprima a lista de valores únicos da coluna `'genre'` mais uma vez:"
   ]
  },
  {
   "cell_type": "code",
   "execution_count": 33,
   "metadata": {
    "id": "wvixALnFG15m"
   },
   "outputs": [
    {
     "name": "stdout",
     "output_type": "stream",
     "text": [
      "['rock' 'pop' 'folk' 'dance' 'rusrap' 'ruspop' 'world' 'electronic'\n",
      " 'unknown' 'alternative' 'children' 'rnb' 'hiphop' 'jazz' 'postrock'\n",
      " 'latin' 'classical' 'metal' 'reggae' 'triphop' 'blues' 'instrumental'\n",
      " 'rusrock' 'dnb' 'türk' 'post' 'country' 'psychedelic' 'conjazz' 'indie'\n",
      " 'posthardcore' 'local' 'avantgarde' 'punk' 'videogame' 'techno' 'house'\n",
      " 'christmas' 'melodic' 'caucasian' 'reggaeton' 'soundtrack' 'singer' 'ska'\n",
      " 'salsa' 'ambient' 'film' 'western' 'rap' 'beats' \"hard'n'heavy\"\n",
      " 'progmetal' 'minimal' 'tropical' 'contemporary' 'new' 'soul' 'holiday'\n",
      " 'german' 'jpop' 'spiritual' 'urban' 'gospel' 'nujazz' 'folkmetal'\n",
      " 'trance' 'miscellaneous' 'anime' 'hardcore' 'progressive' 'korean'\n",
      " 'numetal' 'vocal' 'estrada' 'tango' 'loungeelectronic' 'classicmetal'\n",
      " 'dubstep' 'club' 'deep' 'southern' 'black' 'folkrock' 'fitness' 'french'\n",
      " 'disco' 'religious' 'drum' 'extrememetal' 'türkçe' 'experimental' 'easy'\n",
      " 'metalcore' 'modern' 'argentinetango' 'old' 'swing' 'breaks' 'eurofolk'\n",
      " 'stonerrock' 'industrial' 'funk' 'middle' 'variété' 'other' 'adult'\n",
      " 'christian' 'thrash' 'gothic' 'international' 'muslim' 'relax' 'schlager'\n",
      " 'caribbean' 'nu' 'breakbeat' 'comedy' 'chill' 'newage' 'specialty'\n",
      " 'uzbek' 'k-pop' 'balkan' 'chinese' 'meditative' 'dub' 'power' 'death'\n",
      " 'grime' 'arabesk' 'romance' 'flamenco' 'leftfield' 'european' 'tech'\n",
      " 'newwave' 'dancehall' 'mpb' 'piano' 'top' 'bigroom' 'opera' 'celtic'\n",
      " 'tradjazz' 'acoustic' 'epicmetal' 'historisch' 'downbeat' 'downtempo'\n",
      " 'africa' 'audiobook' 'jewish' 'sängerportrait' 'deutschrock' 'eastern'\n",
      " 'action' 'future' 'electropop' 'folklore' 'bollywood' 'marschmusik' 'rnr'\n",
      " 'karaoke' 'indian' 'rancheras' 'afrikaans' 'rhythm' 'sound' 'deutschspr'\n",
      " 'trip' 'lovers' 'choral' 'dancepop' 'retro' 'smooth' 'mexican'\n",
      " 'brazilian' 'ïîï' 'mood' 'surf' 'gangsta' 'inspirational' 'idm' 'ethnic'\n",
      " 'bluegrass' 'broadway' 'animated' 'americana' 'karadeniz' 'rockabilly'\n",
      " 'colombian' 'self' 'sertanejo' 'japanese' 'canzone' 'lounge' 'sport'\n",
      " 'ragga' 'traditional' 'gitarre' 'frankreich' 'emo' 'laiko' 'cantopop'\n",
      " 'glitch' 'documentary' 'oceania' 'popeurodance' 'dark' 'vi' 'grunge'\n",
      " 'hardstyle' 'samba' 'garage' 'art' 'folktronica' 'entehno'\n",
      " 'mediterranean' 'chamber' 'cuban' 'taraftar' 'gypsy' 'hardtechno'\n",
      " 'shoegazing' 'bossa' 'latino' 'worldbeat' 'malaysian' 'baile' 'ghazal'\n",
      " 'arabic' 'popelectronic' 'acid' 'kayokyoku' 'neoklassik' 'tribal'\n",
      " 'tanzorchester' 'native' 'independent' 'cantautori' 'handsup' 'punjabi'\n",
      " 'synthpop' 'rave' 'französisch' 'quebecois' 'speech' 'soulful' 'jam'\n",
      " 'ram' 'horror' 'orchestral' 'neue' 'roots' 'slow' 'jungle' 'indipop'\n",
      " 'axé' 'fado' 'showtunes' 'arena' 'irish' 'mandopop' 'forró' 'dirty'\n",
      " 'regional']\n"
     ]
    }
   ],
   "source": [
    "# verificando valores duplicados\n",
    "print(df['genre'].unique())"
   ]
  },
  {
   "cell_type": "markdown",
   "metadata": {
    "id": "ALgNbvF3VtPA"
   },
   "source": [
    "[Voltar ao Índice](#back)"
   ]
  },
  {
   "cell_type": "markdown",
   "metadata": {
    "id": "jz6a9-7HQUDd"
   },
   "source": [
    "### Suas observações <a id='data_preprocessing_conclusions'></a>\n",
    "\n",
    "` Descreva brevemente o que você reparou ao analisar duplicados, bem como a abordagem que usou para eliminá-los e os resultados que alcançou.`"
   ]
  },
  {
   "cell_type": "markdown",
   "metadata": {},
   "source": [
    "<div class=\"alert alert-success\">\n",
    "<strong>Comentário do revisor v4</strong>\n",
    "\n",
    "Bom trabalho com os duplicados implícitos e explícitos\n",
    "</div>\n"
   ]
  },
  {
   "cell_type": "markdown",
   "metadata": {
    "id": "jz6a9-7HQUDd"
   },
   "source": [
    "# Análise de Duplicados na Coluna \"genre\"\n",
    "\n",
    "Ao analisar os duplicados na coluna **`genre`**, percebi que alguns gêneros estavam escritos de formas diferentes, como \"hip\", \"hop\" e \"hip-hop\". Todos esses deveriam ser categorizados como **\"hiphop\"**.\n",
    "\n",
    "# Abordagem para eliminar os duplicados:\n",
    "1. **Identificação dos duplicados implícitos**: Identifiquei essas variações e percebi que precisavam ser corrigidas.\n",
    "2. **Criação de uma função**: Criei a função **`replace_wrong_genres()`**, que recebe os gêneros errados e o nome correto. A função usa **`replace()`** para substituir todas as variações por \"hiphop\".\n",
    "3. **Aplicação da função**: Apliquei essa função na coluna **`genre`**, garantindo que todas as variações fossem substituídas corretamente.\n",
    "\n",
    "# Resultados:\n",
    "Depois de aplicar a função, todos os gêneros \"hip\", \"hop\" e \"hip-hop\" foram corrigidos para \"hiphop\". Agora, a coluna **`genre`** está mais consistente e os dados estão prontos para uma análise mais precisa.\n",
    "\n"
   ]
  },
  {
   "cell_type": "markdown",
   "metadata": {
    "id": "eK1es74rVujj"
   },
   "source": [
    "[Voltar ao Índice](#back)"
   ]
  },
  {
   "cell_type": "markdown",
   "metadata": {
    "id": "WttZHXH0SqKk"
   },
   "source": [
    "## Etapa 3. Teste da hipótese <a id='hypothesis'></a>"
   ]
  },
  {
   "cell_type": "markdown",
   "metadata": {
    "id": "Im936VVi_Zcu"
   },
   "source": [
    "### Hipótese: comparação do comportamento dos usuários nas duas cidades <a id='activity'></a>"
   ]
  },
  {
   "cell_type": "markdown",
   "metadata": {
    "id": "nwt_MuaL_Zcu"
   },
   "source": [
    "A hipótese afirma que existem diferenças no consumo de música pelos usuários em Springfield e em Shelbyville. Para testar a hipótese, use os dados dos três dias da semana: segunda-feira (Monday), quarta-feira (Wednesday) e sexta-feira (Friday).\n",
    "\n",
    "* Agrupe os usuários por cidade.\n",
    "* Compare o número de músicas tocadas por cada grupo na segunda, quarta e sexta.\n"
   ]
  },
  {
   "cell_type": "markdown",
   "metadata": {
    "id": "8Dw_YMmT_Zcu"
   },
   "source": [
    "Execute cada cálculo separadamente.\n",
    "\n",
    "O primeiro passo é avaliar a atividade dos usuários em cada cidade. Não se esqueça das etapas \"divisão-aplicação-combinação\" sobre as quais falamos anteriormente na lição. Agora seu objetivo é agrupar os dados por cidade, aplicar o método de contagem apropriado durante a etapa de aplicação e então encontrar o número de músicas tocadas por cada grupo, especificando a coluna para a qual você quer obter a contagem.\n",
    "\n",
    "Veja um exemplo de como o resultado final deve ser:\n",
    "`df.groupby(by='....')['column'].method()` Execute cada cálculo separadamente.\n",
    "\n",
    "Para avaliar a atividade dos usuários em cada cidade, agrupe os dados por cidade e encontre o número de músicas reproduzidas em cada grupo.\n",
    "\n"
   ]
  },
  {
   "cell_type": "code",
   "execution_count": 35,
   "metadata": {
    "id": "0_Qs96oh_Zcu"
   },
   "outputs": [
    {
     "name": "stdout",
     "output_type": "stream",
     "text": [
      "\n",
      "Número de músicas tocadas on Monday:\n",
      "city\n",
      "Shelbyville     5614\n",
      "Springfield    15740\n",
      "Name: track, dtype: int64\n",
      "\n",
      "Número de músicas tocadas on Wednesday:\n",
      "city\n",
      "Shelbyville     7003\n",
      "Springfield    11056\n",
      "Name: track, dtype: int64\n",
      "\n",
      "Número de músicas tocadas on Friday:\n",
      "city\n",
      "Shelbyville     5895\n",
      "Springfield    15945\n",
      "Name: track, dtype: int64\n"
     ]
    }
   ],
   "source": [
    "# Contando as músicas tocadas em cada cidade\n",
    "# 1. Filtrar os dados para segunda-feira, quarta-feira e sexta-feira\n",
    "df_filtered = df[df['day'].isin(['Monday', 'Wednesday', 'Friday'])]\n",
    "\n",
    "# 2. Contar as músicas tocadas por cidade e dia\n",
    "for day in ['Monday', 'Wednesday', 'Friday']:\n",
    "    activity = df_filtered[df_filtered['day'] == day].groupby(by='city')['track'].count()\n",
    "    print(f\"\\nNúmero de músicas tocadas on {day}:\")\n",
    "    print(activity)\n"
   ]
  },
  {
   "cell_type": "markdown",
   "metadata": {
    "id": "t_Qx-3NewAnK"
   },
   "source": [
    "`Comente sobre suas observações aqui`\n",
    "\n",
    "Springfield ouve mais musica que Shelbyville. "
   ]
  },
  {
   "cell_type": "markdown",
   "metadata": {
    "id": "dzli3w8o_Zcu"
   },
   "source": [
    "Agora vamos agrupar os dados por dia da semana e encontrar a quantidade de músicas tocadas na segunda, quarta e sexta-feira. Use a mesma abordagem que antes, mas agora precisamos agrupar os dados de uma forma diferente.\n"
   ]
  },
  {
   "cell_type": "code",
   "execution_count": 37,
   "metadata": {
    "id": "uZMKjiJz_Zcu"
   },
   "outputs": [
    {
     "name": "stdout",
     "output_type": "stream",
     "text": [
      "\n",
      "Total de músicas escutadas por dia:\n",
      "day\n",
      "Friday       21840\n",
      "Monday       21354\n",
      "Wednesday    18059\n",
      "Name: track, dtype: int64\n"
     ]
    }
   ],
   "source": [
    "# Calculando as músicas escutadas em cada um desses três dias\n",
    "# 1. Calcular o total de músicas escutadas em cada um dos três dias\n",
    "total_songs_per_day = df_filtered.groupby('day')['track'].count()\n",
    "\n",
    "print(\"\\nTotal de músicas escutadas por dia:\")\n",
    "print(total_songs_per_day)\n"
   ]
  },
  {
   "cell_type": "markdown",
   "metadata": {
    "id": "cC2tNrlL_Zcu"
   },
   "source": [
    "`Comente sobre suas observações aqui`\n",
    "\n",
    "Friday é o dia que tem mais músicas ouvidas. "
   ]
  },
  {
   "cell_type": "markdown",
   "metadata": {
    "id": "POzs8bGa_Zcu"
   },
   "source": [
    "Você acabou de aprender como contar entradas agrupando-as por cidade ou por dia. E agora você precisa escrever uma função que possa contar entradas simultaneamente com base em ambos os critérios.\n",
    "\n",
    "Crie a função `number_tracks()` para calcular o número de músicas tocadas em um determinado dia **e** em uma determinada cidade. A função deve aceitar dois parâmetros:\n",
    "\n",
    "- `day`: um dia da semana pelo qual precisamos filtrar os dados. Por exemplo, `'Monday'`.\n",
    "- `city`: uma cidade pela qual precisamos filtrar os dados. Por exemplo, `'Springfield'`.\n",
    "\n",
    "Dentro da função, você vai aplicar uma filtragem consecutiva com indexação lógica.\n",
    "\n",
    "Primeiro, filtre os dados por dia e então filtre a tabela resultante por cidade.\n",
    "\n",
    "Depois de filtrar os dados usando os dois critérios, conte o número de valores na coluna 'user_id' da tabela resultante. O resultado da contagem representará o número de entradas que você quer encontrar. Armazene o resultado em uma nova variável e imprima-o."
   ]
  },
  {
   "cell_type": "code",
   "execution_count": 38,
   "metadata": {
    "id": "Nz3GdQB1_Zcu"
   },
   "outputs": [
    {
     "name": "stdout",
     "output_type": "stream",
     "text": [
      "Músicas tocadas em Springfield na segunda-feira: 15740\n",
      "Músicas tocadas em Shelbyville na sexta-feira: 5895\n"
     ]
    }
   ],
   "source": [
    "# 1. Criar a função number_tracks()\n",
    "def number_tracks(day, city):\n",
    "    \"\"\"\n",
    "    Conta o número de músicas tocadas em um determinado dia e cidade.\n",
    "    \n",
    "    Parâmetros:\n",
    "    day (str): O dia da semana (exemplo: 'Monday').\n",
    "    city (str): O nome da cidade (exemplo: 'Springfield').\n",
    "\n",
    "    Retorno:\n",
    "    int: Número de músicas tocadas nesse dia e cidade.\n",
    "    \"\"\"\n",
    "    df_filtered = df[(df['day'] == day) & (df['city'] == city)]\n",
    "    return df_filtered['user_id'].count()\n",
    "\n",
    "# 2. Testando a função\n",
    "print(\"Músicas tocadas em Springfield na segunda-feira:\", number_tracks('Monday', 'Springfield'))\n",
    "print(\"Músicas tocadas em Shelbyville na sexta-feira:\", number_tracks('Friday', 'Shelbyville'))\n"
   ]
  },
  {
   "cell_type": "markdown",
   "metadata": {
    "id": "ytf7xFrFJQ2r"
   },
   "source": [
    "Chame a função `number_tracks()` seis vezes, mudando os valores dos parâmetros, para que você possa recuperar os dados de ambas as cidades para cada um dos três dias."
   ]
  },
  {
   "cell_type": "code",
   "execution_count": 39,
   "metadata": {
    "id": "rJcRATNQ_Zcu"
   },
   "outputs": [
    {
     "name": "stdout",
     "output_type": "stream",
     "text": [
      "Músicas tocadas em Springfield na segunda-feira: 15740\n"
     ]
    }
   ],
   "source": [
    "# a quantidade de músicas tocadas em Springfield na segunda-feira\n",
    "monday_springfield = number_tracks('Monday', 'Springfield')\n",
    "print(\"Músicas tocadas em Springfield na segunda-feira:\", monday_springfield)"
   ]
  },
  {
   "cell_type": "code",
   "execution_count": 40,
   "metadata": {
    "id": "hq_ncZ5T_Zcu"
   },
   "outputs": [
    {
     "name": "stdout",
     "output_type": "stream",
     "text": [
      "Músicas tocadas em Shelbyville na segunda-feira: 5614\n"
     ]
    }
   ],
   "source": [
    "# a quantidade de músicas tocadas em Shelbyville na segunda-feira\n",
    "monday_shelbyville = number_tracks('Monday', 'Shelbyville')\n",
    "print(\"Músicas tocadas em Shelbyville na segunda-feira:\", monday_shelbyville)"
   ]
  },
  {
   "cell_type": "code",
   "execution_count": 41,
   "metadata": {
    "id": "_NTy2VPU_Zcu"
   },
   "outputs": [
    {
     "name": "stdout",
     "output_type": "stream",
     "text": [
      "Músicas tocadas em Springfield na quarta-feira: 11056\n"
     ]
    }
   ],
   "source": [
    "# a quantidade de músicas tocadas em Springfield na quarta-feira\n",
    "wednesday_springfield = number_tracks('Wednesday', 'Springfield')\n",
    "print(\"Músicas tocadas em Springfield na quarta-feira:\", wednesday_springfield)"
   ]
  },
  {
   "cell_type": "code",
   "execution_count": 42,
   "metadata": {
    "id": "j2y3TAwo_Zcu"
   },
   "outputs": [
    {
     "name": "stdout",
     "output_type": "stream",
     "text": [
      "Músicas tocadas em Shelbyville na quarta-feira: 7003\n"
     ]
    }
   ],
   "source": [
    "# a quantidade de músicas tocadas em Shelbyville na quarta-feira\n",
    "wednesday_shelbyville = number_tracks('Wednesday', 'Shelbyville')\n",
    "print(\"Músicas tocadas em Shelbyville na quarta-feira:\", wednesday_shelbyville)"
   ]
  },
  {
   "cell_type": "code",
   "execution_count": 43,
   "metadata": {
    "id": "vYDw5u_K_Zcu"
   },
   "outputs": [
    {
     "name": "stdout",
     "output_type": "stream",
     "text": [
      "Músicas tocadas em Springfield na sexta-feira: 15945\n"
     ]
    }
   ],
   "source": [
    "# a quantidade de músicas tocadas em Springfield na sexta-feira\n",
    "friday_springfield = number_tracks('Friday', 'Springfield')\n",
    "print(\"Músicas tocadas em Springfield na sexta-feira:\", friday_springfield)"
   ]
  },
  {
   "cell_type": "code",
   "execution_count": 44,
   "metadata": {
    "id": "8_yzFtW3_Zcu",
    "scrolled": true
   },
   "outputs": [
    {
     "name": "stdout",
     "output_type": "stream",
     "text": [
      "Músicas tocadas em Shelbyville na sexta-feira: 5895\n"
     ]
    }
   ],
   "source": [
    "# a quantidade de músicas tocadas em Shelbyville na sexta-feira\n",
    "friday_shelbyville = number_tracks('Friday', 'Shelbyville')\n",
    "print(\"Músicas tocadas em Shelbyville na sexta-feira:\", friday_shelbyville)"
   ]
  },
  {
   "cell_type": "markdown",
   "metadata": {},
   "source": [
    "\n",
    "<div class=\"alert alert-success\">\n",
    "<strong>Comentário do revisor v4</strong>\n",
    "\n",
    "A função solicitada foi desenvolvida e o cálculo das reproduções foi realizado com sucesso.\n",
    "</div>\n",
    "\n"
   ]
  },
  {
   "cell_type": "markdown",
   "metadata": {
    "id": "-EgPIHYu_Zcu"
   },
   "source": [
    "**Conclusões**\n",
    "\n",
    "`Comente sobre se a terceira hipótese está correta ou deve ser rejeitada. Explique seu raciocínio.`\n",
    "\n",
    "Com base nos resultados apresentados para a quantidade de músicas tocadas em Springfield e Shelbyville ao longo de três dias da semana (segunda-feira, quarta-feira e sexta-feira), podemos analisar a hipótese de que há diferenças no consumo de música entre os usuários das duas cidades.\n",
    "\n",
    "**Resultados obtidos:**\n",
    "\n",
    "**Segunda-feira:**\n",
    "Springfield: 15.740 músicas\n",
    "Shelbyville: 5.614 músicas\n",
    "\n",
    "**Quarta-feira:**\n",
    "Springfield: 11.056 músicas\n",
    "Shelbyville: 7.003 músicas\n",
    "\n",
    "**Sexta-feira:**\n",
    "Springfield: 15.945 músicas\n",
    "Shelbyville: 5.895 músicas\n",
    "\n",
    "**Análise:**\n",
    "\n",
    "Segunda-feira e sexta-feira: Springfield apresenta números significativamente mais altos do que Shelbyville, com uma diferença de cerca de 10.000 músicas tocadas a mais em ambos os dias.\n",
    "\n",
    "Quarta-feira: Springfield ainda tem um número superior de músicas tocadas, mas a diferença é um pouco menor, cerca de 4.000 músicas a mais.\n",
    "\n",
    "**Conclusão sobre a hipótese:**\n",
    "\n",
    "A hipótese afirma que existem diferenças no consumo de música entre os usuários de Springfield e Shelbyville. Com base nos dados, há uma diferença clara no número de músicas tocadas nas duas cidades, com Springfield consistentemente superando Shelbyville em todos os dias analisados.\n",
    "\n",
    "Portanto, a hipótese é correta, pois as diferenças no consumo de música entre as duas cidades são evidentes.\n",
    "\n",
    "**Considerações adicionais:**\n",
    "\n",
    "Embora as diferenças sejam observadas em todos os dias, é importante considerar possíveis fatores que poderiam explicar essa disparidade, como o número de habitantes, preferências culturais ou outros fatores externos.\n",
    "\n",
    "Para uma análise mais robusta, um teste estatístico (como o teste t de Student) poderia ser realizado para verificar se as diferenças observadas são estatisticamente significativas.\n",
    "\n",
    "Em resumo, a hipótese deve ser aceita, já que existem diferenças claras no consumo de música entre Springfield e Shelbyville.  "
   ]
  },
  {
   "cell_type": "markdown",
   "metadata": {
    "id": "p7nFQajCVw5B"
   },
   "source": [
    "[Voltar ao Índice](#back)"
   ]
  },
  {
   "cell_type": "markdown",
   "metadata": {},
   "source": [
    "<div class=\"alert alert-success\">\n",
    "<strong>Comentário do revisor v4</strong>\n",
    "\n",
    "A hipótese foi avaliada com sucesso e argumentos robustos foram apresentados justificando a conclusão.\n",
    "</div>\n"
   ]
  },
  {
   "cell_type": "markdown",
   "metadata": {
    "id": "ykKQ0N65_Zcv"
   },
   "source": [
    "# Conclusões <a id='end'></a>"
   ]
  },
  {
   "cell_type": "markdown",
   "metadata": {
    "id": "tjUwbHb3_Zcv"
   },
   "source": [
    "`Resuma suas conclusões sobre a hipótese aqui`\n",
    "\n",
    "Com base na análise dos resultados, fica claro que há uma diferença significativa no consumo de música entre Springfield e Shelbyville. Springfield supera Shelbyville de maneira consistente em todos os dias analisados, especialmente nas segundas e sextas-feiras, com uma diferença de cerca de 10.000 músicas tocadas a mais. Mesmo na quarta-feira, quando a diferença é menor, Springfield ainda apresenta números superiores.\n",
    "\n",
    "Portanto, a hipótese de que existem diferenças no consumo de música entre as duas cidades é confirmada. No entanto, seria útil investigar mais a fundo possíveis fatores externos que poderiam explicar essas disparidades, como características demográficas ou culturais. Para uma análise mais robusta, um teste estatístico poderia ser realizado para verificar se as diferenças observadas são estatisticamente significativas."
   ]
  },
  {
   "cell_type": "markdown",
   "metadata": {
    "id": "azLHu64yOIp7"
   },
   "source": [
    "### Importante\n",
    "Em projetos de pesquisas reais, o teste estatístico de hipóteses é mais preciso e quantitativo. Observe também que conclusões sobre uma cidade inteira nem sempre podem ser tiradas a partir de dados de apenas uma fonte.\n",
    "\n",
    "Você aprenderá mais sobre testes de hipóteses no sprint sobre a análise estatística de dados."
   ]
  },
  {
   "cell_type": "markdown",
   "metadata": {
    "id": "Ju4AHDSgV1FE"
   },
   "source": [
    "[Voltar ao Índice](#back)"
   ]
  }
 ],
 "metadata": {
  "ExecuteTimeLog": [
   {
    "duration": 307,
    "start_time": "2025-02-28T16:41:53.166Z"
   },
   {
    "duration": 530,
    "start_time": "2025-02-28T16:42:19.523Z"
   },
   {
    "duration": 13,
    "start_time": "2025-02-28T16:43:01.661Z"
   },
   {
    "duration": 57,
    "start_time": "2025-02-28T16:43:10.558Z"
   },
   {
    "duration": 115,
    "start_time": "2025-02-28T16:44:15.713Z"
   },
   {
    "duration": 92,
    "start_time": "2025-02-28T16:44:18.723Z"
   },
   {
    "duration": 156,
    "start_time": "2025-02-28T20:30:32.560Z"
   },
   {
    "duration": 13,
    "start_time": "2025-02-28T20:31:10.328Z"
   },
   {
    "duration": 449,
    "start_time": "2025-02-28T20:31:21.287Z"
   },
   {
    "duration": 97,
    "start_time": "2025-02-28T20:32:12.221Z"
   },
   {
    "duration": 101,
    "start_time": "2025-02-28T20:33:50.988Z"
   },
   {
    "duration": 2,
    "start_time": "2025-02-28T20:35:06.872Z"
   },
   {
    "duration": 99,
    "start_time": "2025-02-28T20:37:56.142Z"
   },
   {
    "duration": 94,
    "start_time": "2025-02-28T20:42:31.986Z"
   },
   {
    "duration": 96,
    "start_time": "2025-02-28T20:43:06.378Z"
   },
   {
    "duration": 90,
    "start_time": "2025-02-28T20:43:33.436Z"
   },
   {
    "duration": 95,
    "start_time": "2025-02-28T20:44:09.011Z"
   },
   {
    "duration": 105,
    "start_time": "2025-02-28T20:45:04.424Z"
   },
   {
    "duration": 118,
    "start_time": "2025-02-28T20:46:30.081Z"
   },
   {
    "duration": 115,
    "start_time": "2025-02-28T20:46:51.815Z"
   },
   {
    "duration": 121,
    "start_time": "2025-02-28T20:47:11.813Z"
   },
   {
    "duration": 128,
    "start_time": "2025-02-28T20:50:28.201Z"
   },
   {
    "duration": 137,
    "start_time": "2025-02-28T20:51:39.379Z"
   },
   {
    "duration": 140,
    "start_time": "2025-02-28T20:51:48.664Z"
   },
   {
    "duration": 132,
    "start_time": "2025-02-28T20:52:05.627Z"
   },
   {
    "duration": 165,
    "start_time": "2025-02-28T20:53:01.898Z"
   },
   {
    "duration": 98,
    "start_time": "2025-02-28T20:53:37.305Z"
   },
   {
    "duration": 7,
    "start_time": "2025-02-28T20:55:13.744Z"
   },
   {
    "duration": 95,
    "start_time": "2025-02-28T20:55:20.944Z"
   },
   {
    "duration": 103,
    "start_time": "2025-02-28T20:55:56.497Z"
   },
   {
    "duration": 102,
    "start_time": "2025-02-28T20:56:10.965Z"
   },
   {
    "duration": 94,
    "start_time": "2025-02-28T20:56:20.653Z"
   },
   {
    "duration": 102,
    "start_time": "2025-02-28T20:58:29.828Z"
   },
   {
    "duration": 115,
    "start_time": "2025-02-28T20:59:19.682Z"
   },
   {
    "duration": 492,
    "start_time": "2025-02-28T21:06:35.878Z"
   },
   {
    "duration": 504,
    "start_time": "2025-03-02T14:02:50.627Z"
   },
   {
    "duration": 176,
    "start_time": "2025-03-02T14:04:34.173Z"
   },
   {
    "duration": 182,
    "start_time": "2025-03-02T14:06:48.623Z"
   },
   {
    "duration": 151,
    "start_time": "2025-03-02T14:09:23.258Z"
   },
   {
    "duration": 13,
    "start_time": "2025-03-02T14:13:29.903Z"
   },
   {
    "duration": 145,
    "start_time": "2025-03-02T14:13:39.660Z"
   },
   {
    "duration": 14,
    "start_time": "2025-03-02T14:14:06.145Z"
   },
   {
    "duration": 11,
    "start_time": "2025-03-02T14:14:39.078Z"
   },
   {
    "duration": 11,
    "start_time": "2025-03-02T14:14:48.431Z"
   },
   {
    "duration": 12,
    "start_time": "2025-03-02T14:14:55.216Z"
   },
   {
    "duration": 13,
    "start_time": "2025-03-02T14:15:02.059Z"
   },
   {
    "duration": 12,
    "start_time": "2025-03-02T14:15:09.366Z"
   },
   {
    "duration": 154,
    "start_time": "2025-03-02T14:23:17.420Z"
   },
   {
    "duration": 444,
    "start_time": "2025-03-05T12:28:40.630Z"
   },
   {
    "duration": 98,
    "start_time": "2025-03-05T12:30:05.191Z"
   },
   {
    "duration": 97,
    "start_time": "2025-03-05T12:30:11.761Z"
   },
   {
    "duration": 158,
    "start_time": "2025-03-06T14:46:44.439Z"
   },
   {
    "duration": 13,
    "start_time": "2025-03-06T14:50:42.875Z"
   },
   {
    "duration": 12,
    "start_time": "2025-03-06T14:51:17.429Z"
   },
   {
    "duration": 435,
    "start_time": "2025-03-06T14:51:40.412Z"
   },
   {
    "duration": 3,
    "start_time": "2025-03-06T14:51:42.932Z"
   },
   {
    "duration": 4,
    "start_time": "2025-03-06T14:51:45.808Z"
   },
   {
    "duration": 157,
    "start_time": "2025-03-06T23:22:04.775Z"
   },
   {
    "duration": 164,
    "start_time": "2025-03-10T14:55:43.427Z"
   },
   {
    "duration": 13,
    "start_time": "2025-03-10T14:55:56.602Z"
   },
   {
    "duration": 13,
    "start_time": "2025-03-10T14:56:54.054Z"
   },
   {
    "duration": 12,
    "start_time": "2025-03-10T15:00:36.029Z"
   },
   {
    "duration": 16,
    "start_time": "2025-03-10T15:00:39.799Z"
   },
   {
    "duration": 11,
    "start_time": "2025-03-10T15:00:42.251Z"
   },
   {
    "duration": 14,
    "start_time": "2025-03-10T15:00:45.707Z"
   },
   {
    "duration": 37,
    "start_time": "2025-03-10T15:00:48.693Z"
   },
   {
    "duration": 396,
    "start_time": "2025-03-10T15:00:52.965Z"
   },
   {
    "duration": 4,
    "start_time": "2025-03-10T15:00:55.848Z"
   },
   {
    "duration": 3,
    "start_time": "2025-03-10T15:00:57.995Z"
   },
   {
    "duration": 10,
    "start_time": "2025-03-10T15:01:01.186Z"
   },
   {
    "duration": 3,
    "start_time": "2025-03-10T15:01:03.540Z"
   },
   {
    "duration": 101,
    "start_time": "2025-03-10T15:51:32.934Z"
   },
   {
    "duration": 8,
    "start_time": "2025-03-10T15:51:46.267Z"
   },
   {
    "duration": 25,
    "start_time": "2025-03-10T15:51:50.597Z"
   },
   {
    "duration": 23,
    "start_time": "2025-03-10T15:52:02.303Z"
   },
   {
    "duration": 3,
    "start_time": "2025-03-10T15:52:25.443Z"
   },
   {
    "duration": 2,
    "start_time": "2025-03-10T15:52:41.047Z"
   },
   {
    "duration": 3,
    "start_time": "2025-03-10T15:52:51.589Z"
   },
   {
    "duration": 6,
    "start_time": "2025-03-10T15:52:56.772Z"
   },
   {
    "duration": 3,
    "start_time": "2025-03-10T15:52:58.528Z"
   },
   {
    "duration": 17,
    "start_time": "2025-03-10T15:53:03.585Z"
   },
   {
    "duration": 21,
    "start_time": "2025-03-10T15:53:14.348Z"
   },
   {
    "duration": 20,
    "start_time": "2025-03-10T15:53:20.047Z"
   },
   {
    "duration": 43,
    "start_time": "2025-03-10T15:53:31.676Z"
   },
   {
    "duration": 47,
    "start_time": "2025-03-10T15:53:38.047Z"
   },
   {
    "duration": 78,
    "start_time": "2025-03-10T15:53:51.782Z"
   },
   {
    "duration": 6,
    "start_time": "2025-03-10T15:53:58.575Z"
   },
   {
    "duration": 3,
    "start_time": "2025-03-10T15:54:05.074Z"
   },
   {
    "duration": 15,
    "start_time": "2025-03-10T15:54:24.303Z"
   },
   {
    "duration": 7,
    "start_time": "2025-03-10T15:54:43.503Z"
   },
   {
    "duration": 7,
    "start_time": "2025-03-10T15:54:54.255Z"
   },
   {
    "duration": 37,
    "start_time": "2025-03-10T15:55:59.938Z"
   },
   {
    "duration": 39,
    "start_time": "2025-03-10T15:56:11.479Z"
   },
   {
    "duration": 39,
    "start_time": "2025-03-10T15:56:33.554Z"
   },
   {
    "duration": 9,
    "start_time": "2025-03-10T15:56:54.971Z"
   },
   {
    "duration": 22,
    "start_time": "2025-03-10T15:57:37.140Z"
   },
   {
    "duration": 14,
    "start_time": "2025-03-10T15:57:40.275Z"
   },
   {
    "duration": 12,
    "start_time": "2025-03-10T15:57:42.921Z"
   },
   {
    "duration": 14,
    "start_time": "2025-03-10T15:57:45.126Z"
   },
   {
    "duration": 12,
    "start_time": "2025-03-10T15:57:46.996Z"
   },
   {
    "duration": 14,
    "start_time": "2025-03-10T15:57:49.519Z"
   },
   {
    "duration": 12,
    "start_time": "2025-03-10T15:57:51.546Z"
   }
  ],
  "colab": {
   "collapsed_sections": [
    "E0vqbgi9ay0H",
    "VUC88oWjTJw2"
   ],
   "provenance": []
  },
  "kernelspec": {
   "display_name": "Python 3 (ipykernel)",
   "language": "python",
   "name": "python3"
  },
  "language_info": {
   "codemirror_mode": {
    "name": "ipython",
    "version": 3
   },
   "file_extension": ".py",
   "mimetype": "text/x-python",
   "name": "python",
   "nbconvert_exporter": "python",
   "pygments_lexer": "ipython3",
   "version": "3.9.19"
  },
  "toc": {
   "base_numbering": 1,
   "nav_menu": {},
   "number_sections": true,
   "sideBar": true,
   "skip_h1_title": true,
   "title_cell": "Table of Contents",
   "title_sidebar": "Contents",
   "toc_cell": false,
   "toc_position": {},
   "toc_section_display": true,
   "toc_window_display": false
  }
 },
 "nbformat": 4,
 "nbformat_minor": 1
}
